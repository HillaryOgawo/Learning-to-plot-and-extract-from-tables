{
    "cells": [
        {
            "metadata": {},
            "cell_type": "code",
            "source": "\n// @hidden_cell\nimport com.ibm.ibmos2spark.CloudObjectStorage\nvar configurationName = \"os_7a5e982411d64b4fb5c510e34c099918_configs\"\ndef getCredentials(): scala.collection.mutable.HashMap[String, String] = {\n    return scala.collection.mutable.HashMap[String, String] (\n    \"endPoint\"-> \"https://s3.private.us.cloud-object-storage.appdomain.cloud\",\n    \"apiKey\"->\"2bAOD78iYrXmjrNX3ZIYgdBYMMRAQcyOT3XHkQ8OzZ9B\",\n    \"serviceId\"->\"iam-ServiceId-0ec31fd4-c4d6-497e-bc1e-9bb4b18cd90e\",\n    \"iamServiceEndpoint\" -> \"https://iam.cloud.ibm.com/oidc/token\")\n}\n\nvar cos = new CloudObjectStorage(sc, getCredentials(), configurationName, \"bluemix_cos\")\n\nimport org.apache.spark.sql.SparkSession\nval spark = SparkSession.\n    builder().\n    getOrCreate()\nval dfData1 = spark.\n    read.format(\"org.apache.spark.sql.execution.datasources.csv.CSVFileFormat\").\n    option(\"header\", \"true\").\n    option(\"inferSchema\", \"true\").\n    load(cos.url(\"daxweatherproject-donotdelete-pr-ymsfx750oksynh\", \"Monkeypox.csv\"))\ndfData1.show(5)\n",
            "execution_count": 1,
            "outputs": [
                {
                    "output_type": "stream",
                    "text": "+---+---------+--------------------+------+-------+----+------+----------+-----------------+--------------+---------------------+--------------------+-----------------+--------------+-------+--------------------+----------+----------------+-----------------------+--------------------+--------------------+-----------------------+----------------------+------------------+-------------------+--------------------+--------------------+----------+------------------+----------+------------+\n| ID|   Status|            Location|  City|Country| Age|Gender|Date_onset|Date_confirmation|      Symptoms|Hospitalised (Y/N/NA)|Date_hospitalisation|Isolated (Y/N/NA)|Date_isolation|Outcome|     Contact_comment|Contact_ID|Contact_location|Travel_history (Y/N/NA)|Travel_history_entry|Travel_history_start|Travel_history_location|Travel_history_country| Genomics_Metadata|Confirmation_method|              Source|           Source_II|Date_entry|Date_last_modified|Source_III|Country_ISO3|\n+---+---------+--------------------+------+-------+----+------+----------+-----------------+--------------+---------------------+--------------------+-----------------+--------------+-------+--------------------+----------+----------------+-----------------------+--------------------+--------------------+-----------------------+----------------------+------------------+-------------------+--------------------+--------------------+----------+------------------+----------+------------+\n|  1|confirmed|Guy's and St Thom...|London|England|null|  null|2022-04-29|       2022-05-06|          rash|                    Y|          2022-05-04|                Y|    2022-05-04|   null|                null|      null|            null|                      Y|          2022-05-04|          late April|   Lagos and Delta S...|               Nigeria|West African Clade|             RT-PCR|https://www.gov.u...|https://www.who.i...|2022-05-18|        2022-05-18|      null|         GBR|\n|  2|confirmed|Guy's and St Thom...|London|England|null|  null|2022-05-05|       2022-05-12|          rash|                    Y|          2022-05-06|                Y|    2022-05-09|   null|Index Case of hou...|         3|       Household|                      N|                null|                null|                   null|                  null|West African Clade|             RT-PCR|https://www.gov.u...|                null|2022-05-18|        2022-05-18|      null|         GBR|\n|  3|confirmed|              London|London|England|null|  null|2022-04-30|       2022-05-13|vesicular rash|                    N|                null|                Y|          null|   null|                null|         2|       Household|                      N|                null|                null|                   null|                  null|West African Clade|             RT-PCR|https://www.gov.u...|                null|2022-05-18|        2022-05-18|      null|         GBR|\n|  4|confirmed|              London|London|England|null|  male|      null|       2022-05-15|vesicular rash|                    Y|                null|                Y|          null|   null| Under investigation|      null|            null|                      N|                null|                null|                   null|                  null|West African Clade|               null|https://www.gov.u...|                null|2022-05-18|        2022-05-18|      null|         GBR|\n|  5|confirmed|              London|London|England|null|  male|      null|       2022-05-15|vesicular rash|                    Y|                null|                Y|          null|   null| Under investigation|      null|            null|                      N|                null|                null|                   null|                  null|West African Clade|               null|https://www.gov.u...|                null|2022-05-18|        2022-05-18|      null|         GBR|\n+---+---------+--------------------+------+-------+----+------+----------+-----------------+--------------+---------------------+--------------------+-----------------+--------------+-------+--------------------+----------+----------------+-----------------------+--------------------+--------------------+-----------------------+----------------------+------------------+-------------------+--------------------+--------------------+----------+------------------+----------+------------+\nonly showing top 5 rows\n\n",
                    "name": "stdout"
                },
                {
                    "output_type": "display_data",
                    "data": {
                        "text/plain": "configurationName = os_7a5e982411d64b4fb5c510e34c099918_configs\ncos = com.ibm.ibmos2spark.CloudObjectStorage@25604043\nspark = org.apache.spark.sql.SparkSession@c142c701\ndfData1 = [ID: int, Status: string ... 29 more fields]\n"
                    },
                    "metadata": {}
                },
                {
                    "output_type": "display_data",
                    "data": {
                        "text/plain": "getCredentials: ()scala.collection.mutable.HashMap[String,String]\n"
                    },
                    "metadata": {}
                },
                {
                    "output_type": "execute_result",
                    "execution_count": 1,
                    "data": {
                        "text/plain": "[ID: int, Status: string ... 29 more fields]"
                    },
                    "metadata": {}
                }
            ]
        },
        {
            "metadata": {},
            "cell_type": "code",
            "source": "",
            "execution_count": null,
            "outputs": []
        }
    ],
    "metadata": {
        "kernelspec": {
            "name": "scala",
            "display_name": "Scala 2.12 with Spark",
            "language": "scala"
        },
        "language_info": {
            "name": "scala",
            "version": "2.12.12",
            "file_extension": ".scala",
            "pygments_lexer": "scala",
            "mimetype": "text/x-scala",
            "codemirror_mode": "text/x-scala"
        }
    },
    "nbformat": 4,
    "nbformat_minor": 1
}